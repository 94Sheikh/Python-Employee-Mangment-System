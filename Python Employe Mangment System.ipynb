{
 "cells": [
  {
   "cell_type": "markdown",
   "id": "052ef616",
   "metadata": {},
   "source": [
    "# Employe Mangment System"
   ]
  },
  {
   "cell_type": "raw",
   "id": "d3cd39c8",
   "metadata": {},
   "source": [
    "roject Name: \"Employee Management System\"\n",
    "\n",
    "Project Description:\n",
    "\n",
    "The project will be an employee management system that will allow the user to add new employees, display a list of all employees, search for an employee, and delete an employee from the system.\n",
    "\n",
    "The program will use object-oriented programming to create an Employee class that will store information about each employee, including their name, age, and salary. The program will also use lambda functions, generator functions, and function decoration to sort and display the employee list."
   ]
  },
  {
   "cell_type": "raw",
   "id": "e2ce0ce2",
   "metadata": {},
   "source": [
    "1st Attemt "
   ]
  },
  {
   "cell_type": "code",
   "execution_count": 135,
   "id": "b90e321c",
   "metadata": {},
   "outputs": [
    {
     "name": "stdout",
     "output_type": "stream",
     "text": [
      "['Employe(Id = 12, name = Alice, age = 25, salry = 50000)', 'Employe(Id = 13, name = Bob, age = 30, salry = 60000)', 'Employe(Id = 14, name = Charlie, age = 35, salry = 70000)', 'Employe(Id = 15, name = David, age = 40, salry = 80000)', 'Employe(Id = 16, name = Eve, age = 45, salry = 90000)', 'Employe(Id = 34, name = Faiza, age = 30, salry = 900)', 'Employe(Id = 45, name = Faiza, age = 28, salry = 9000)']\n",
      "\n",
      "\n",
      "\n",
      "['Employe(Id = 12, name = Alice, age = 25, salry = 50000)', 'Employe(Id = 13, name = Bob, age = 30, salry = 60000)', 'Employe(Id = 14, name = Charlie, age = 35, salry = 70000)', 'Employe(Id = 15, name = David, age = 40, salry = 80000)', 'Employe(Id = 16, name = Eve, age = 45, salry = 90000)', 'Employe(Id = 45, name = Faiza, age = 28, salry = 9000)']\n"
     ]
    }
   ],
   "source": [
    "# class Employe:\n",
    "#     def __init__(self, Id, name, age, salary):\n",
    "#         self.Id = Id\n",
    "#         self.name = name\n",
    "#         self.age = age\n",
    "#         self.salary = salary\n",
    "        \n",
    "#     def employee_info(self):\n",
    "#         return f\"Employe(Id = {self.Id}, name = {self.name}, age = {self.age}, salry = {self.salary})\"\n",
    "    \n",
    "class EmployeMangeMentSystem:\n",
    "    def __init__(self):\n",
    "        self.employees = []\n",
    "        \n",
    "       \n",
    "        \n",
    "    def add_employee(self, Id, name, age, salary):\n",
    "        \n",
    "        employee = Employe(Id, name, age, salary)\n",
    "        \n",
    "        self.employees.append(employee)\n",
    "        \n",
    "    def delete_employee(self, Id):\n",
    "        for employee in self.employees:\n",
    "            if employee.Id == Id:\n",
    "                self.employees.remove(employee)        \n",
    "                \n",
    "                \n",
    "    def search_employee(self, Id):\n",
    "        for employee in self.employees:\n",
    "            if employee.Id == Id:\n",
    "                return employee.employee_info()\n",
    "#         return None\n",
    "                \n",
    "            \n",
    "        \n",
    "        \n",
    "    def display_employee(self, sort_func = lambda employee: employee.Id):\n",
    "        sorted_employee = sorted(self.employees, key = sort_func)\n",
    "        employee_info_list = []\n",
    "        for employee in sorted_employee:\n",
    "            employee_info_list.append(employee.employee_info())\n",
    "            yield employee_info_list[-1]\n",
    "\n",
    "\n",
    "ems = EmployeMangeMentSystem()\n",
    "\n",
    "\n",
    "\n",
    "ems.add_employee(12, \"Alice\", 25, 50000)\n",
    "ems.add_employee(13, \"Bob\", 30, 60000)\n",
    "ems.add_employee(14, \"Charlie\", 35, 70000)\n",
    "ems.add_employee(15, \"David\", 40, 80000)\n",
    "ems.add_employee(16, \"Eve\", 45, 90000)\n",
    "ems.add_employee(45, \"Faiza\", 28, 9000)\n",
    "ems.add_employee(34, \"Faiza\", 30, 900)\n",
    "\n",
    "\n",
    "print(list(ems.display_employee()))\n",
    "\n",
    "print()\n",
    "\n",
    "ems.search_employee(13)\n",
    "\n",
    "print()\n",
    "\n",
    "ems.delete_employee(34)\n",
    "print()\n",
    "\n",
    "print(list(ems.display_employee()))\n",
    "\n"
   ]
  },
  {
   "cell_type": "raw",
   "id": "ecaca96a",
   "metadata": {},
   "source": [
    "Second Attemt"
   ]
  },
  {
   "cell_type": "code",
   "execution_count": 138,
   "id": "38982966",
   "metadata": {},
   "outputs": [
    {
     "name": "stdout",
     "output_type": "stream",
     "text": [
      "\n",
      "\n",
      "[[{'id': 27, 'name': 'Amaniya', 'age': 59, 'salary': 30004}, {'id': 23, 'name': 'Faisal', 'age': 33, 'salary': 50001}, {'id': 24, 'name': 'Haider', 'age': 17, 'salary': 50002}, {'id': 26, 'name': 'Rehmat', 'age': 55, 'salary': 3000}, {'id': 25, 'name': 'Saliha', 'age': 28, 'salary': 50003}]]\n",
      "\n",
      "[[{'id': 27, 'name': 'Amaniya', 'age': 59, 'salary': 30004}, {'id': 23, 'name': 'Faisal', 'age': 33, 'salary': 50001}, {'id': 26, 'name': 'Rehmat', 'age': 55, 'salary': 3000}, {'id': 25, 'name': 'Saliha', 'age': 28, 'salary': 50003}]]\n",
      "\n",
      "{'id': 27, 'name': 'Amaniya', 'age': 59, 'salary': 30004}\n"
     ]
    }
   ],
   "source": [
    "class EmployeeManagmentSystem:\n",
    "    def __init__(self):\n",
    "        self.employees_list = []\n",
    "        \n",
    "    \n",
    "    def add_employee(self, id, name, age, salary):\n",
    "        employee = {\"id\":id,\"name\": name, \"age\":age, \"salary\":salary}\n",
    "        self.employees_list.append(employee)\n",
    "        return f\"id={employee['id']},name={employee['name']},age={employee['age']},salary={employee['salary']}\"\n",
    "        \n",
    "    def delete_employee(self, id):\n",
    "        for employee in self.employees_list:\n",
    "            if employee['id']== id:\n",
    "                self.employees_list.remove(employee)\n",
    "                \n",
    "    def search_employee(self,id):\n",
    "        for employee in self.employees_list:\n",
    "            if employee['id'] == id:\n",
    "                return employee\n",
    "                \n",
    "        return employee\n",
    "                \n",
    "    def display_employee(self, sort_func= lambda employee: employee['name']):\n",
    "        sorted_employee = sorted(self.employees_list, key = sort_func)\n",
    "        yield [employee for employee in sorted_employee]\n",
    "\n",
    "        # employe_info_list = []\n",
    "        # for employee in sorted_employee:\n",
    "        #     employe_info_list.append(employee)\n",
    "        #     yield employe_info_list[-1]\n",
    "\n",
    "                \n",
    "        \n",
    "ems =EmployeeManagmentSystem()\n",
    "\n",
    "print()\n",
    "ems.add_employee(23,\"Faisal\",33,50001)\n",
    "ems.add_employee(24,\"Haider\",17,50002)\n",
    "ems.add_employee(25,\"Saliha\",28,50003)\n",
    "ems.add_employee(26, \"Rehmat\", 55, 3000)\n",
    "ems.add_employee(27, \"Amaniya\", 59, 30004)\n",
    "\n",
    "print()\n",
    "print(list(ems.display_employee()))\n",
    "ems.delete_employee(24)\n",
    "print()\n",
    "print(list(ems.display_employee()))\n",
    "print()\n",
    "print(ems.search_employee(27))\n",
    "\n",
    "    "
   ]
  },
  {
   "cell_type": "code",
   "execution_count": null,
   "id": "e25dfabc",
   "metadata": {},
   "outputs": [],
   "source": []
  },
  {
   "cell_type": "code",
   "execution_count": null,
   "id": "0780f9f5",
   "metadata": {},
   "outputs": [],
   "source": []
  }
 ],
 "metadata": {
  "kernelspec": {
   "display_name": "Python 3 (ipykernel)",
   "language": "python",
   "name": "python3"
  },
  "language_info": {
   "codemirror_mode": {
    "name": "ipython",
    "version": 3
   },
   "file_extension": ".py",
   "mimetype": "text/x-python",
   "name": "python",
   "nbconvert_exporter": "python",
   "pygments_lexer": "ipython3",
   "version": "3.9.13"
  }
 },
 "nbformat": 4,
 "nbformat_minor": 5
}
